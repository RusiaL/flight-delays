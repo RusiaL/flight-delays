{
 "cells": [
  {
   "cell_type": "code",
   "execution_count": 1,
   "id": "802b5711-e981-4323-821b-2ed36c73f033",
   "metadata": {},
   "outputs": [],
   "source": [
    "import pandas as pd\n",
    "import numpy as np\n",
    "\n",
    "from sklearn.model_selection import train_test_split\n",
    "from sklearn.preprocessing import OneHotEncoder, StandardScaler\n",
    "from sklearn.compose import ColumnTransformer\n",
    "from sklearn.pipeline import Pipeline\n",
    "from sklearn.metrics import classification_report, confusion_matrix, roc_auc_score\n",
    "from sklearn.linear_model import LogisticRegression\n",
    "from sklearn.ensemble import RandomForestClassifier"
   ]
  },
  {
   "cell_type": "code",
   "execution_count": 2,
   "id": "76d4ce6a-59c5-4be0-b3b6-e7ae3b6f3e35",
   "metadata": {},
   "outputs": [],
   "source": [
    "import warnings\n",
    "warnings.filterwarnings(\"ignore\")"
   ]
  },
  {
   "cell_type": "code",
   "execution_count": 3,
   "id": "8ba220d7-5bc9-41fb-9a37-20f9974af572",
   "metadata": {},
   "outputs": [],
   "source": [
    "# 1. Load data\n",
    "df = pd.read_csv('data/flights.csv', low_memory=False, \n",
    "                 dtype={'ORIGIN_AIRPORT': str, 'DESTINATION_AIRPORT': str})\n",
    "\n",
    "essential_cols = ['ARRIVAL_DELAY', 'DEPARTURE_DELAY', 'SCHEDULED_DEPARTURE']\n",
    "df_cleaned = df.dropna(subset=essential_cols, axis=0)"
   ]
  },
  {
   "cell_type": "code",
   "execution_count": 4,
   "id": "dd0f8cdb-88c2-4d5d-a4b5-b1097ef0a234",
   "metadata": {},
   "outputs": [],
   "source": [
    "# 2. Define target\n",
    "delay_threshold = 15\n",
    "df['IS_DELAYED'] = df['ARRIVAL_DELAY'] > delay_threshold"
   ]
  },
  {
   "cell_type": "code",
   "execution_count": 5,
   "id": "bf88d2c5-b805-4def-bd67-28177a348d5f",
   "metadata": {},
   "outputs": [],
   "source": [
    "# 3. Select features \n",
    "features = [\n",
    "    'AIRLINE', 'ORIGIN_AIRPORT', 'DESTINATION_AIRPORT',\n",
    "    'MONTH', 'DAY', 'DAY_OF_WEEK', 'SCHEDULED_DEPARTURE'\n",
    "]\n",
    "target = 'IS_DELAYED'\n",
    "\n",
    "X = df[features].copy()\n",
    "y = df[target]"
   ]
  },
  {
   "cell_type": "code",
   "execution_count": 6,
   "id": "03a53503-28e2-4001-8f0d-ea8e2cfc880a",
   "metadata": {},
   "outputs": [],
   "source": [
    "# 4. Feature preprocessing\n",
    "# Convert scheduled departure to hour\n",
    "X['DEP_HOUR'] = X['SCHEDULED_DEPARTURE'] // 100\n",
    "X = X.drop(columns='SCHEDULED_DEPARTURE')\n",
    "\n",
    "# Define types of features\n",
    "categorical = ['AIRLINE', 'ORIGIN_AIRPORT', 'DESTINATION_AIRPORT']\n",
    "numerical = ['MONTH', 'DAY', 'DAY_OF_WEEK', 'DEP_HOUR']\n",
    "\n",
    "# Preprocessing pipelines\n",
    "preprocessor = ColumnTransformer([\n",
    "    ('cat', OneHotEncoder(handle_unknown='ignore'), categorical),\n",
    "    ('num', StandardScaler(), numerical)\n",
    "])"
   ]
  },
  {
   "cell_type": "code",
   "execution_count": 7,
   "id": "9dba93fb-4661-4b18-8f84-d5d86201966c",
   "metadata": {},
   "outputs": [],
   "source": [
    "# 5. Split the data\n",
    "X_train, X_test, y_train, y_test = train_test_split(X, y, test_size=0.2, stratify=y, random_state=42)"
   ]
  },
  {
   "cell_type": "code",
   "execution_count": 8,
   "id": "08014438-48c0-4412-ae28-e72311b1b103",
   "metadata": {},
   "outputs": [
    {
     "name": "stdout",
     "output_type": "stream",
     "text": [
      "Logistic Regression Results:\n",
      "[[958989    127]\n",
      " [204608     92]]\n",
      "              precision    recall  f1-score   support\n",
      "\n",
      "       False       0.82      1.00      0.90    959116\n",
      "        True       0.42      0.00      0.00    204700\n",
      "\n",
      "    accuracy                           0.82   1163816\n",
      "   macro avg       0.62      0.50      0.45   1163816\n",
      "weighted avg       0.75      0.82      0.74   1163816\n",
      "\n",
      "ROC AUC: 0.6398548002942124\n"
     ]
    }
   ],
   "source": [
    "# 6. Logistic Regression baseline\n",
    "logreg_pipeline = Pipeline([\n",
    "    ('preprocess', preprocessor),\n",
    "    ('classifier', LogisticRegression(max_iter=1000))\n",
    "])\n",
    "\n",
    "logreg_pipeline.fit(X_train, y_train)\n",
    "y_pred_lr = logreg_pipeline.predict(X_test)\n",
    "y_prob_lr = logreg_pipeline.predict_proba(X_test)[:, 1]\n",
    "\n",
    "print(\"Logistic Regression Results:\")\n",
    "print(confusion_matrix(y_test, y_pred_lr))\n",
    "print(classification_report(y_test, y_pred_lr))\n",
    "print(\"ROC AUC:\", roc_auc_score(y_test, y_prob_lr))"
   ]
  },
  {
   "cell_type": "code",
   "execution_count": null,
   "id": "2ea75c46-2476-413e-a81f-803192635d1b",
   "metadata": {},
   "outputs": [],
   "source": [
    "# 7. Random Forest\n",
    "# rf_pipeline = Pipeline([\n",
    "#     ('preprocess', preprocessor),\n",
    "#     ('classifier', RandomForestClassifier(n_estimators=100, random_state=42))\n",
    "# ])\n",
    "\n",
    "# rf_pipeline.fit(X_train, y_train)\n",
    "# y_pred_rf = rf_pipeline.predict(X_test)\n",
    "# y_prob_rf = rf_pipeline.predict_proba(X_test)[:, 1]\n",
    "\n",
    "# print(\"Random Forest Results:\")\n",
    "# print(confusion_matrix(y_test, y_pred_rf))\n",
    "# print(classification_report(y_test, y_pred_rf))\n",
    "# print(\"ROC AUC:\", roc_auc_score(y_test, y_prob_rf))"
   ]
  },
  {
   "cell_type": "code",
   "execution_count": null,
   "id": "b361f327-cdb6-4522-b377-e263f90778d8",
   "metadata": {},
   "outputs": [],
   "source": []
  }
 ],
 "metadata": {
  "kernelspec": {
   "display_name": "Python 3 (ipykernel)",
   "language": "python",
   "name": "python3"
  },
  "language_info": {
   "codemirror_mode": {
    "name": "ipython",
    "version": 3
   },
   "file_extension": ".py",
   "mimetype": "text/x-python",
   "name": "python",
   "nbconvert_exporter": "python",
   "pygments_lexer": "ipython3",
   "version": "3.13.5"
  }
 },
 "nbformat": 4,
 "nbformat_minor": 5
}
